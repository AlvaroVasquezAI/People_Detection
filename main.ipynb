{
 "cells": [
  {
   "cell_type": "markdown",
   "metadata": {},
   "source": [
    "<h1 style = \"text-align:center\"> <strong>Artificial Neural Network </strong></h1>"
   ]
  },
  {
   "cell_type": "markdown",
   "metadata": {},
   "source": [
    "<h2 style = \"text-align:center\"> People Detection </h2>"
   ]
  },
  {
   "cell_type": "markdown",
   "metadata": {},
   "source": [
    "<h5 style = \"text-align:center\"> Authors: <a href=\"https://github.com/AlvaroVasquezAI\">Álvaro García Vásquez</a>, <a href=\"#\">Luis Alfredo Cuamatzi Flores</a> and <a href=\"#\">Fernando Daniel Portilla Posadas</a> </h5>"
   ]
  },
  {
   "cell_type": "markdown",
   "metadata": {},
   "source": [
    "Description: This notebook shows how to implement an Artificial Neural Network to detect people in images."
   ]
  },
  {
   "cell_type": "markdown",
   "metadata": {},
   "source": [
    "<h3 style = 'text-align:center'> <strong>Dataset </strong></h3>"
   ]
  },
  {
   "cell_type": "markdown",
   "metadata": {},
   "source": [
    "We created a dataset with 100 images of the city with people and animals, and 100 images of the city with animals but without people. After that, we split the dataset into four categories: Absent, Animal, Noise, and People (A, N, Noise, P). This was done with a program that divides each image into 128x128 grids, manually labeling each grid as A, N, Noise, or P. The program saves the grids in the corresponding folder. We also created a file .csv for both folders V1 and V2. Each file .csv contains NumberOfImage, NumberOfGrid, Class and TypeOfFile of each grid.\n",
    "\n",
    "<strong>Features:</strong>\n",
    "- Size: 1024x1024 pixels\n",
    "- Format: PNG\n",
    "- Channels: RGB\n",
    "- Images generated with Artificial Intelligence\n",
    "\n",
    "<strong>Folder structure before splitting the dataset:</strong>\n",
    "- dataset\n",
    "    - V1 (with people and animals)\n",
    "        - 1.png\n",
    "        - 2.png\n",
    "        - ...\n",
    "        - 100.png\n",
    "    - V2 (without people but with animals)\n",
    "        - 1.png\n",
    "        - 2.png\n",
    "        - ...\n",
    "        - 100.png\n",
    "\n",
    "<strong> Folder structure after splitting the dataset: </strong>\n",
    "- dataset\n",
    "    - V1 (with people and animals)\n",
    "        - output\n",
    "            - A (Absent)\n",
    "                - grid_V1_numberOfImage_numberOfGrid_A.png\n",
    "                - ...\n",
    "            - N (Animal)\n",
    "                - grid_V1_numberOfImage_numberOfGrid_N.png\n",
    "                - ...\n",
    "            - Noise (Noise)\n",
    "                - grid_V1_numberOfImage_numberOfGrid_Noise.png\n",
    "                - ...\n",
    "            - P (People)\n",
    "                - grid_V1_numberOfImage_numberOfGrid_P.png\n",
    "        - 1.png\n",
    "        - 2.png\n",
    "        - ...\n",
    "        - 100.png\n",
    "    - V2 (without people but with animals)\n",
    "        - output\n",
    "            - A (Absent)\n",
    "                - grid_V2_numberOfImage_numberOfGrid_A.png\n",
    "                - ...\n",
    "            - N (Animal)\n",
    "                - grid_V2_numberOfImage_numberOfGrid_N.png\n",
    "                - ...\n",
    "            - Noise (Noise)\n",
    "                - grid_V2_numberOfImage_numberOfGrid_Noise.png\n",
    "                - ...\n",
    "            - P (People)\n",
    "                - grid_V2_numberOfImage_numberOfGrid_P.png\n",
    "        - 1.png\n",
    "        - 2.png\n",
    "        - ...\n",
    "        - 100.png\n"
   ]
  },
  {
   "cell_type": "markdown",
   "metadata": {},
   "source": [
    "<h3 style='text-align:center'> <strong>Tool for labeling images:</strong> </h3>\n",
    "<img src=\"resources/images/UI.png\" alt=\"UI\" style = \"display:block; margin-left:auto; margin-right:auto; width:50%;\">"
   ]
  },
  {
   "cell_type": "code",
   "execution_count": null,
   "metadata": {},
   "outputs": [],
   "source": []
  }
 ],
 "metadata": {
  "language_info": {
   "name": "python"
  }
 },
 "nbformat": 4,
 "nbformat_minor": 2
}
